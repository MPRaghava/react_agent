{
 "cells": [
  {
   "cell_type": "code",
   "execution_count": 6,
   "id": "5ccaa367",
   "metadata": {},
   "outputs": [
    {
     "name": "stderr",
     "output_type": "stream",
     "text": [
      "c:\\Users\\Admin\\LLM\\Agentic AI\\react_agent\\.venv\\Lib\\site-packages\\tqdm\\auto.py:21: TqdmWarning: IProgress not found. Please update jupyter and ipywidgets. See https://ipywidgets.readthedocs.io/en/stable/user_install.html\n",
      "  from .autonotebook import tqdm as notebook_tqdm\n"
     ]
    }
   ],
   "source": [
    "from langgraph.graph import Graph,MessagesState,StateGraph,END,START\n",
    "from langchain_core.messages import HumanMessage,SystemMessage\n",
    "from langgraph.prebuilt import tools_condition\n",
    "from langgraph.prebuilt import ToolNode\n",
    "# from langchain_core.tools import DuckDuckGoSearchRun\n",
    "from IPython.display import Image,display\n",
    "from typing import TypedDict,Annotated\n",
    "import operator\n",
    "from langchain_core.messages import AnyMessage\n",
    "from langgraph.graph.message import add_messages\n",
    "from langchain_community.tools import DuckDuckGoSearchRun\n",
    "from ctransformers import AutoModelForCausalLM"
   ]
  },
  {
   "cell_type": "code",
   "execution_count": 9,
   "id": "94f9744b",
   "metadata": {},
   "outputs": [],
   "source": [
    "# llm = AutoModelForCausalLM.from_pretrained(\n",
    "#     model_path_or_repo_id=\"model\\mistral-7b-instruct-v0.1.Q4_K_M.gguf\",\n",
    "#     model_file =\"mistral-7b-instruct-v0.1.Q4_K_M.gguf\",\n",
    "#     model_type = \"mistral\",\n",
    "#     context_length = 4096 ,\n",
    "#     local_files_only= True\n",
    "# )\n",
    "# response = llm(\"What is the use of transformers in NLP?\")\n",
    "# print(response)"
   ]
  },
  {
   "cell_type": "code",
   "execution_count": null,
   "id": "e2c8c75e",
   "metadata": {},
   "outputs": [
    {
     "name": "stdout",
     "output_type": "stream",
     "text": [
      "\n",
      "Transformers are a type of neural network architecture that has shown significant success in natural language processing (NLP) tasks. They work by encoding the input text into a sequence of vectors, which can then be manipulated using attention mechanisms to extract relevant information from different parts of the text. Transformers can be used for a wide range of NLP tasks, including text classification, machine translation, named entity recognition, sentiment analysis, and more. They are particularly effective at handling long sequences of text and can process large amounts of data efficiently.\n"
     ]
    }
   ],
   "source": []
  },
  {
   "cell_type": "code",
   "execution_count": null,
   "id": "733bf930",
   "metadata": {},
   "outputs": [],
   "source": [
    "from langchain_groq import ChatGroq\n",
    "import os\n",
    "from dotenv import load_dotenv\n",
    "\n",
    "load_dotenv()\n",
    "\n",
    "groq_api_key = os.getenv(groq_api_key)\n",
    "\n",
    "llm = ChatGroq(model_name = \"gemma2-9b-it\",api_key = groq_api_key)"
   ]
  },
  {
   "cell_type": "code",
   "execution_count": 12,
   "id": "2f76a7d3",
   "metadata": {},
   "outputs": [],
   "source": [
    "def multiply(a: int, b: int) -> int:\n",
    "    \"\"\" \n",
    "    Multiply a and b.\n",
    "    Args :\n",
    "        a: first int\n",
    "        b: second int\n",
    "\n",
    "    \"\"\"\n",
    "    return a * b"
   ]
  },
  {
   "cell_type": "code",
   "execution_count": 13,
   "id": "ee3f9031",
   "metadata": {},
   "outputs": [],
   "source": [
    "def add(a: int, b: int)-> int:\n",
    "    \"\"\" \n",
    "    Add a and b.\n",
    "    Args :\n",
    "        a: first int\n",
    "        b: second int\n",
    "\n",
    "    \"\"\"\n",
    "    return a + b"
   ]
  },
  {
   "cell_type": "code",
   "execution_count": 14,
   "id": "50b253b3",
   "metadata": {},
   "outputs": [],
   "source": [
    "def divide(a: int, b: int) -> int:\n",
    "    \"\"\" \n",
    "    Divide a and b.\n",
    "    Args :\n",
    "        a: first int\n",
    "        b: second int\n",
    "\n",
    "    \"\"\"\n",
    "    return a / b"
   ]
  },
  {
   "cell_type": "code",
   "execution_count": 29,
   "id": "7389360a",
   "metadata": {},
   "outputs": [],
   "source": [
    "# from langchain_community.tools import DuckDuckGoSearchRun\n",
    "from duckduckgo_search import DDGS\n",
    "\n",
    "search = DDGS()\n",
    "\n",
    "# search.news(\"capital of India\")\n",
    "# search.news(\"who is USA president?\")\n"
   ]
  },
  {
   "cell_type": "code",
   "execution_count": 16,
   "id": "0ca6e761",
   "metadata": {},
   "outputs": [],
   "source": [
    "tools = [add, multiply,divide]"
   ]
  },
  {
   "cell_type": "code",
   "execution_count": 17,
   "id": "6e41f47f",
   "metadata": {},
   "outputs": [],
   "source": [
    "from langchain_core.tools import tool\n",
    "\n",
    "llm_with_tools = llm.bind_tools(tools)"
   ]
  },
  {
   "cell_type": "code",
   "execution_count": 18,
   "id": "28355033",
   "metadata": {},
   "outputs": [],
   "source": [
    "sys_msg = SystemMessage(content =\"You are a helpful assistant tasked with using search and performing arithmatic operations on set of inputs\")"
   ]
  },
  {
   "cell_type": "code",
   "execution_count": 19,
   "id": "b4544135",
   "metadata": {},
   "outputs": [],
   "source": [
    "def reasoner(state:MessagesState):\n",
    "    return {\"messages\":[llm_with_tools.invoke([sys_msg]+state[\"messages\"])]}"
   ]
  },
  {
   "cell_type": "code",
   "execution_count": 20,
   "id": "86e45f08",
   "metadata": {},
   "outputs": [],
   "source": [
    "builder = StateGraph(MessagesState)\n",
    "\n",
    "builder.add_node(\"reasoner\",reasoner)\n",
    "builder.add_node(\"tools\", ToolNode(tools))\n",
    "\n",
    "builder.add_edge(START,\"reasoner\")\n",
    "\n",
    "builder.add_conditional_edges(\n",
    "    \"reasoner\",\n",
    "    tools_condition\n",
    ")\n",
    "\n",
    "builder.add_edge(\"tools\",\"reasoner\")\n",
    "react_graph = builder.compile()"
   ]
  },
  {
   "cell_type": "code",
   "execution_count": 21,
   "id": "b2659e0d",
   "metadata": {},
   "outputs": [
    {
     "data": {
      "image/png": "[encoded data removed]",
      "text/plain": [
       "<IPython.core.display.Image object>"
      ]
     },
     "metadata": {},
     "output_type": "display_data"
    }
   ],
   "source": [
    "display(Image(react_graph.get_graph(xray=True).draw_mermaid_png()))"
   ]
  },
  {
   "cell_type": "code",
   "execution_count": null,
   "id": "3b8df850",
   "metadata": {},
   "outputs": [],
   "source": [
    "messages = [HumanMessage(content =\"What is the height of the Elon musk and total height of the Mount everest in meters ?\")]"
   ]
  },
  {
   "cell_type": "code",
   "execution_count": 34,
   "id": "c00f707b",
   "metadata": {},
   "outputs": [],
   "source": [
    "messages = react_graph.invoke({\"messages\":messages})"
   ]
  },
  {
   "cell_type": "code",
   "execution_count": 35,
   "id": "5309339b",
   "metadata": {},
   "outputs": [
    {
     "name": "stdout",
     "output_type": "stream",
     "text": [
      "================================\u001b[1m Human Message \u001b[0m=================================\n",
      "\n",
      "What is the height of the Elon musk and total height of the Mount everest ?\n",
      "==================================\u001b[1m Ai Message \u001b[0m==================================\n",
      "Tool Calls:\n",
      "  add (call_e3b1)\n",
      " Call ID: call_e3b1\n",
      "  Args:\n",
      "    a: 510\n",
      "    b: 8848\n",
      "=================================\u001b[1m Tool Message \u001b[0m=================================\n",
      "Name: add\n",
      "\n",
      "9358\n",
      "==================================\u001b[1m Ai Message \u001b[0m==================================\n",
      "\n",
      "The total height is 9358\n"
     ]
    }
   ],
   "source": [
    "for m in messages['messages']:\n",
    "    m.pretty_print()"
   ]
  }
 ],
 "metadata": {
  "kernelspec": {
   "display_name": ".venv",
   "language": "python",
   "name": "python3"
  },
  "language_info": {
   "codemirror_mode": {
    "name": "ipython",
    "version": 3
   },
   "file_extension": ".py",
   "mimetype": "text/x-python",
   "name": "python",
   "nbconvert_exporter": "python",
   "pygments_lexer": "ipython3",
   "version": "3.11.7"
  }
 },
 "nbformat": 4,
 "nbformat_minor": 5
}
